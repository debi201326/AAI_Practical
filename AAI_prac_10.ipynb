{
  "nbformat": 4,
  "nbformat_minor": 0,
  "metadata": {
    "colab": {
      "provenance": [],
      "authorship_tag": "ABX9TyMuiagzY8Y7aBxsA332i6wp",
      "include_colab_link": true
    },
    "kernelspec": {
      "name": "python3",
      "display_name": "Python 3"
    },
    "language_info": {
      "name": "python"
    }
  },
  "cells": [
    {
      "cell_type": "markdown",
      "metadata": {
        "id": "view-in-github",
        "colab_type": "text"
      },
      "source": [
        "<a href=\"https://colab.research.google.com/github/debi201326/AAI_Practical/blob/main/AAI_prac_10.ipynb\" target=\"_parent\"><img src=\"https://colab.research.google.com/assets/colab-badge.svg\" alt=\"Open In Colab\"/></a>"
      ]
    },
    {
      "cell_type": "markdown",
      "source": [
        "Practical 10: Select and develop an expert system for real-world application domain (e.g., medical diagnosis, financial analysis).  "
      ],
      "metadata": {
        "id": "X2aKIc5ZXiF7"
      }
    },
    {
      "cell_type": "code",
      "source": [
        "!pip uninstall -y experta\n",
        "!pip install git+https://github.com/nilp0inter/experta.git\n",
        "from experta import *"
      ],
      "metadata": {
        "id": "IaccPJ-jXzUH"
      },
      "execution_count": null,
      "outputs": []
    },
    {
      "cell_type": "code",
      "execution_count": 2,
      "metadata": {
        "id": "rvc40jJaUVpd"
      },
      "outputs": [],
      "source": [
        "class MedicalExpertSystem(KnowledgeEngine):\n",
        "\n",
        "    @DefFacts()\n",
        "    def _initial_action(self):\n",
        "        print(\"\\n--- Medical Diagnosis Expert System ---\")\n",
        "        print(\"Please answer the following questions with 'yes' or 'no':\\n\")\n",
        "        yield Fact(action='diagnose')\n",
        "\n",
        "    @Rule(Fact(action='diagnose'),\n",
        "          Fact(fever='yes'),\n",
        "          Fact(cough='yes'),\n",
        "          Fact(fatigue='yes'))\n",
        "    def flu(self):\n",
        "        print(\"\\nDiagnosis: You may have the **Flu**.\")\n",
        "\n",
        "    @Rule(Fact(action='diagnose'),\n",
        "          Fact(fever='yes'),\n",
        "          Fact(dry_cough='yes'),\n",
        "          Fact(difficulty_breathing='yes'))\n",
        "    def covid(self):\n",
        "        print(\"\\nDiagnosis: You may have **COVID-19**.\")\n",
        "\n",
        "    @Rule(Fact(action='diagnose'),\n",
        "          Fact(fever='yes'),\n",
        "          Fact(chills='yes'),\n",
        "          Fact(sweating='yes'))\n",
        "    def malaria(self):\n",
        "        print(\"\\nDiagnosis: You may have **Malaria**.\")\n",
        "\n",
        "    @Rule(Fact(action='diagnose'),\n",
        "          Fact(runny_nose='yes'),\n",
        "          Fact(sneezing='yes'),\n",
        "          Fact(sore_throat='yes'))\n",
        "    def cold(self):\n",
        "        print(\"\\nDiagnosis: You may have a **Common Cold**.\")\n",
        "\n",
        "def get_input(prompt):\n",
        "    while True:\n",
        "        response = input(prompt + \" (yes/no): \").strip().lower()\n",
        "        if response in ['yes', 'no']:\n",
        "            return response\n",
        "        else:\n",
        "            print(\"Please enter 'yes' or 'no'.\")"
      ]
    },
    {
      "cell_type": "code",
      "source": [
        "if __name__ == \"__main__\":\n",
        "    engine = MedicalExpertSystem()\n",
        "    engine.reset()\n",
        "\n",
        "    # Collecting symptoms from the user\n",
        "    engine.declare(Fact(fever=get_input(\"Do you have a fever?\")))\n",
        "    engine.declare(Fact(cough=get_input(\"Do you have a cough?\")))\n",
        "    engine.declare(Fact(fatigue=get_input(\"Do you feel fatigue?\")))\n",
        "    engine.declare(Fact(dry_cough=get_input(\"Do you have a dry cough?\")))\n",
        "    engine.declare(Fact(difficulty_breathing=get_input(\"Are you experiencing difficulty breathing?\")))\n",
        "    engine.declare(Fact(chills=get_input(\"Do you have chills?\")))\n",
        "    engine.declare(Fact(sweating=get_input(\"Are you sweating excessively?\")))\n",
        "    engine.declare(Fact(runny_nose=get_input(\"Do you have a runny nose?\")))\n",
        "    engine.declare(Fact(sneezing=get_input(\"Are you sneezing?\")))\n",
        "    engine.declare(Fact(sore_throat=get_input(\"Do you have a sore throat?\")))\n",
        "\n",
        "    print(\"\\nProcessing your responses...\")\n",
        "    engine.run()\n"
      ],
      "metadata": {
        "colab": {
          "base_uri": "https://localhost:8080/"
        },
        "id": "mW7J_IJXX4g4",
        "outputId": "536e1f91-ad8c-429e-f73e-94c6cea7e20b"
      },
      "execution_count": 6,
      "outputs": [
        {
          "output_type": "stream",
          "name": "stdout",
          "text": [
            "\n",
            "--- Medical Diagnosis Expert System ---\n",
            "Please answer the following questions with 'yes' or 'no':\n",
            "\n",
            "Do you have a fever? (yes/no): yes\n",
            "Do you have a cough? (yes/no): no\n",
            "Do you feel fatigue? (yes/no): yes\n",
            "Do you have a dry cough? (yes/no): no\n",
            "Are you experiencing difficulty breathing? (yes/no): no\n",
            "Do you have chills? (yes/no): yes\n",
            "Are you sweating excessively? (yes/no): yes\n",
            "Do you have a runny nose? (yes/no): no\n",
            "Are you sneezing? (yes/no): no\n",
            "Do you have a sore throat? (yes/no): yes\n",
            "\n",
            "Processing your responses...\n",
            "\n",
            "Diagnosis: You may have **Malaria**.\n"
          ]
        }
      ]
    }
  ]
}