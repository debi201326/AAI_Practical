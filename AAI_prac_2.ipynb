{
  "nbformat": 4,
  "nbformat_minor": 0,
  "metadata": {
    "colab": {
      "provenance": [],
      "authorship_tag": "ABX9TyMpoItsn7QK1pUpCWxGlK0X",
      "include_colab_link": true
    },
    "kernelspec": {
      "name": "python3",
      "display_name": "Python 3"
    },
    "language_info": {
      "name": "python"
    }
  },
  "cells": [
    {
      "cell_type": "markdown",
      "metadata": {
        "id": "view-in-github",
        "colab_type": "text"
      },
      "source": [
        "<a href=\"https://colab.research.google.com/github/debi201326/AAI_Practical/blob/main/AAI_prac_2.ipynb\" target=\"_parent\"><img src=\"https://colab.research.google.com/assets/colab-badge.svg\" alt=\"Open In Colab\"/></a>"
      ]
    },
    {
      "cell_type": "markdown",
      "source": [
        "Practical 2:  Design a hierarchical planning problem and develop a hierarchical planner to solve it."
      ],
      "metadata": {
        "id": "ucTvIN62XxYB"
      }
    },
    {
      "cell_type": "code",
      "execution_count": null,
      "metadata": {
        "id": "sLQMJUrTXtWj"
      },
      "outputs": [],
      "source": [
        "class HierarchicalPlanner:\n",
        "    def __init__(self, grid, start, warehouse, destination):\n",
        "        self.grid = grid  # 2D grid environment\n",
        "        self.position = start  # Robot's start position\n",
        "        self.warehouse = warehouse  # Package pickup location\n",
        "        self.destination = destination  # Delivery location\n",
        "        self.package_picked = False  # Status of package\n",
        "\n",
        "    def high_level_plan(self):\n",
        "        \"\"\"Defines the high-level plan.\"\"\"\n",
        "        return [\"Navigate to Warehouse\", \"Pick Up Package\", \"Navigate to Destination\", \"Deliver Package\"]\n",
        "\n",
        "    def mid_level_plan(self, goal):\n",
        "        \"\"\"Breaks a high-level task into a sequence of movements.\"\"\"\n",
        "        path = self.a_star_search(self.position, goal)\n",
        "        return [\"Move to \" + str(step) for step in path]\n",
        "\n",
        "    def a_star_search(self, start, goal):\n",
        "        \"\"\"A* search for pathfinding.\"\"\"\n",
        "        from queue import PriorityQueue\n",
        "        def heuristic(a, b):\n",
        "            return abs(a[0] - b[0]) + abs(a[1] - b[1])\n",
        "\n",
        "        open_set = PriorityQueue()\n",
        "        open_set.put((0, start))\n",
        "        came_from = {}\n",
        "        g_score = {start: 0}\n",
        "        f_score = {start: heuristic(start, goal)}\n",
        "\n",
        "        while not open_set.empty():\n",
        "            _, current = open_set.get()\n",
        "            if current == goal:\n",
        "                path = []\n",
        "                while current in came_from:\n",
        "                    path.append(current)\n",
        "                    current = came_from[current]\n",
        "                return path[::-1]\n",
        "\n",
        "            for dx, dy in [(0,1), (1,0), (0,-1), (-1,0)]:\n",
        "                neighbor = (current[0] + dx, current[1] + dy)\n",
        "                if neighbor in self.grid and self.grid[neighbor] != 1:\n",
        "                    temp_g_score = g_score[current] + 1\n",
        "                    if neighbor not in g_score or temp_g_score < g_score[neighbor]:\n",
        "                        came_from[neighbor] = current\n",
        "                        g_score[neighbor] = temp_g_score\n",
        "                        f_score[neighbor] = temp_g_score + heuristic(neighbor, goal)\n",
        "                        open_set.put((f_score[neighbor], neighbor))\n",
        "        return []\n",
        "\n",
        "    def execute_plan(self):\n",
        "        \"\"\"Executes the hierarchical plan step by step.\"\"\"\n",
        "        for task in self.high_level_plan():\n",
        "            print(f\"Executing: {task}\")\n",
        "\n",
        "            if task == \"Navigate to Warehouse\":\n",
        "                for step in self.mid_level_plan(self.warehouse):\n",
        "                    print(f\"  {step}\")\n",
        "                    self.position = eval(step.split(\"Move to \")[1])\n",
        "            elif task == \"Pick Up Package\":\n",
        "                self.package_picked = True\n",
        "                print(\"  Package Picked Up\")\n",
        "            elif task == \"Navigate to Destination\":\n",
        "                for step in self.mid_level_plan(self.destination):\n",
        "                    print(f\"  {step}\")\n",
        "                    self.position = eval(step.split(\"Move to \")[1])\n",
        "            elif task == \"Deliver Package\":\n",
        "                if self.position == self.destination and self.package_picked:\n",
        "                    print(\"  Package Delivered Successfully!\")\n",
        "                else:\n",
        "                    print(\"  Failed to Deliver Package\")\n",
        "\n",
        "# Define the grid environment (0 = free space, 1 = obstacle)\n",
        "grid = {(x, y): 0 for x in range(5) for y in range(5)}  # 5x5 empty grid\n",
        "start = (0, 0)\n",
        "warehouse = (2, 2)\n",
        "destination = (4, 4)\n",
        "\n",
        "# Create and execute the hierarchical planner\n",
        "planner = HierarchicalPlanner(grid, start, warehouse, destination)\n",
        "planner.execute_plan()\n"
      ]
    }
  ]
}