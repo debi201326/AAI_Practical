{
  "nbformat": 4,
  "nbformat_minor": 0,
  "metadata": {
    "colab": {
      "provenance": [],
      "authorship_tag": "ABX9TyMd0ViYQclUfZ93rNQWlQQK",
      "include_colab_link": true
    },
    "kernelspec": {
      "name": "python3",
      "display_name": "Python 3"
    },
    "language_info": {
      "name": "python"
    }
  },
  "cells": [
    {
      "cell_type": "markdown",
      "metadata": {
        "id": "view-in-github",
        "colab_type": "text"
      },
      "source": [
        "<a href=\"https://colab.research.google.com/github/debi201326/AAI_Practical/blob/main/AAI_prac_1(b).ipynb\" target=\"_parent\"><img src=\"https://colab.research.google.com/assets/colab-badge.svg\" alt=\"Open In Colab\"/></a>"
      ]
    },
    {
      "cell_type": "markdown",
      "source": [
        "Practical 1(b): Implementation of Block World Problem using Planning Technique."
      ],
      "metadata": {
        "id": "ZcNg1bzVOmIc"
      }
    },
    {
      "cell_type": "code",
      "source": [
        "import matplotlib.pyplot as plt\n",
        "\n",
        "class BlockWorld:\n",
        "    def __init__(self, initial_state, goal_state):\n",
        "        self.state = initial_state\n",
        "        self.goal = goal_state\n",
        "\n",
        "    def is_goal_state(self):\n",
        "        return self.state == self.goal\n",
        "\n",
        "    def move(self, block, from_pos, to_pos):\n",
        "        \"\"\"Move a block from one position to another.\"\"\"\n",
        "        if self.state[from_pos] and self.state[from_pos][-1] == block:\n",
        "            self.state[from_pos].pop()\n",
        "            self.state[to_pos].append(block)\n",
        "            return True\n",
        "        return False\n",
        "\n",
        "    def plan(self):\n",
        "        \"\"\"Simple planning technique to reach the goal state.\"\"\"\n",
        "        steps = []\n",
        "        while not self.is_goal_state():\n",
        "            for from_pos, stack in self.state.items():\n",
        "                if stack:  # If there's a block to move\n",
        "                    block = stack[-1]\n",
        "                    for to_pos in self.goal:\n",
        "                        if block in self.goal[to_pos] and block not in self.state[to_pos]:\n",
        "                            if self.move(block, from_pos, to_pos):\n",
        "                                steps.append(f\"Move {block} from {from_pos} to {to_pos}\")\n",
        "                            break\n",
        "        return steps\n",
        "\n",
        "    def display(self):\n",
        "        for position, blocks in self.state.items():\n",
        "            print(f\"{position}: {blocks}\")\n",
        "        print(\"\\n\")\n",
        "\n",
        "    def visualize(self):\n",
        "        \"\"\"Visualize the block world state using Matplotlib.\"\"\"\n",
        "        fig, ax = plt.subplots(figsize=(6, 4))\n",
        "        ax.set_xlim(-1, len(self.state))\n",
        "        ax.set_ylim(0, max(len(stack) for stack in self.state.values()) + 1)\n",
        "\n",
        "        ax.set_xticks(range(len(self.state)))\n",
        "        ax.set_xticklabels(self.state.keys())\n",
        "        ax.set_yticks([])  # Hide y-axis ticks\n",
        "\n",
        "        for i, (position, blocks) in enumerate(self.state.items()):\n",
        "            for j, block in enumerate(blocks):\n",
        "                ax.add_patch(plt.Rectangle((i - 0.4, j), 0.8, 0.8, fill=True, color=\"lightblue\", edgecolor=\"black\"))\n",
        "                ax.text(i, j + 0.4, block, ha=\"center\", va=\"center\", fontsize=12, fontweight=\"bold\")\n",
        "\n",
        "        ax.set_title(\"Block World Visualization\")\n",
        "        plt.show()\n",
        "\n",
        "# Define initial and goal states\n",
        "initial_state = {\n",
        "    \"A\": [\"C\", \"B\"],\n",
        "    \"B\": [],\n",
        "    \"C\": []\n",
        "}\n",
        "\n",
        "goal_state = {\n",
        "    \"A\": [],\n",
        "    \"B\": [\"B\"],\n",
        "    \"C\": [\"C\"]\n",
        "}\n",
        "\n",
        "# Run block world planner\n",
        "block_world = BlockWorld(initial_state, goal_state)\n",
        "print(\"Initial State:\")\n",
        "block_world.display()\n",
        "\n",
        "# Visualize initial state\n",
        "block_world.visualize()\n",
        "\n",
        "steps = block_world.plan()\n",
        "\n",
        "print(\"Steps to reach the goal:\")\n",
        "for step in steps:\n",
        "    print(step)\n",
        "\n",
        "print(\"Final State:\")\n",
        "block_world.display()\n",
        "\n",
        "# Visualize final state\n",
        "block_world.visualize()\n"
      ],
      "metadata": {
        "colab": {
          "base_uri": "https://localhost:8080/",
          "height": 1000
        },
        "id": "A4cPLvgMDvYT",
        "outputId": "58fe741d-0d1f-4c43-88c3-0b00a389c9e5"
      },
      "execution_count": null,
      "outputs": [
        {
          "output_type": "stream",
          "name": "stdout",
          "text": [
            "Initial State:\n",
            "A: ['C', 'B']\n",
            "B: []\n",
            "C: []\n",
            "\n",
            "\n"
          ]
        },
        {
          "output_type": "stream",
          "name": "stderr",
          "text": [
            "<ipython-input-4-2a16055d4733>:50: UserWarning: Setting the 'color' property will override the edgecolor or facecolor properties.\n",
            "  ax.add_patch(plt.Rectangle((i - 0.4, j), 0.8, 0.8, fill=True, color=\"lightblue\", edgecolor=\"black\"))\n"
          ]
        },
        {
          "output_type": "display_data",
          "data": {
            "text/plain": [
              "<Figure size 600x400 with 1 Axes>"
            ],
            "image/png": "[encoded data removed]"
          },
          "metadata": {}
        },
        {
          "output_type": "stream",
          "name": "stdout",
          "text": [
            "Steps to reach the goal:\n",
            "Move B from A to B\n",
            "Move C from A to C\n",
            "Final State:\n",
            "A: []\n",
            "B: ['B']\n",
            "C: ['C']\n",
            "\n",
            "\n"
          ]
        },
        {
          "output_type": "stream",
          "name": "stderr",
          "text": [
            "<ipython-input-4-2a16055d4733>:50: UserWarning: Setting the 'color' property will override the edgecolor or facecolor properties.\n",
            "  ax.add_patch(plt.Rectangle((i - 0.4, j), 0.8, 0.8, fill=True, color=\"lightblue\", edgecolor=\"black\"))\n"
          ]
        },
        {
          "output_type": "display_data",
          "data": {
            "text/plain": [
              "<Figure size 600x400 with 1 Axes>"
            ],
            "image/png": "[encoded data removed]"
          },
          "metadata": {}
        }
      ]
    }
  ]
}