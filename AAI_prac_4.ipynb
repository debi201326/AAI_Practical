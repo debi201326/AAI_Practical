{
  "nbformat": 4,
  "nbformat_minor": 0,
  "metadata": {
    "colab": {
      "provenance": [],
      "authorship_tag": "ABX9TyOyOfkXptfHV/mZHaj3SKjI",
      "include_colab_link": true
    },
    "kernelspec": {
      "name": "python3",
      "display_name": "Python 3"
    },
    "language_info": {
      "name": "python"
    }
  },
  "cells": [
    {
      "cell_type": "markdown",
      "metadata": {
        "id": "view-in-github",
        "colab_type": "text"
      },
      "source": [
        "<a href=\"https://colab.research.google.com/github/debi201326/AAI_Practical/blob/main/AAI_prac_4.ipynb\" target=\"_parent\"><img src=\"https://colab.research.google.com/assets/colab-badge.svg\" alt=\"Open In Colab\"/></a>"
      ]
    },
    {
      "cell_type": "markdown",
      "source": [
        " Practical 4: Implement an inductive logic programming system that can learn from first order logic."
      ],
      "metadata": {
        "id": "SfaAQJqdOSmm"
      }
    },
    {
      "cell_type": "code",
      "execution_count": 4,
      "metadata": {
        "id": "qwMTClFVMRbA",
        "colab": {
          "base_uri": "https://localhost:8080/"
        },
        "outputId": "fea3d649-affb-4bfa-d64b-f5e83d03e971"
      },
      "outputs": [
        {
          "output_type": "stream",
          "name": "stdout",
          "text": [
            "Decision Tree Rules:\n",
            " |--- Age_Difference <= 16.50\n",
            "|   |--- Is_Direct_Relative <= 0.50\n",
            "|   |   |--- class: 0\n",
            "|   |--- Is_Direct_Relative >  0.50\n",
            "|   |   |--- class: 1\n",
            "|--- Age_Difference >  16.50\n",
            "|   |--- Age_Difference <= 52.50\n",
            "|   |   |--- class: 2\n",
            "|   |--- Age_Difference >  52.50\n",
            "|   |   |--- class: 3\n",
            "\n",
            "Test Case 1: [28, 1] -> Parent\n",
            "Test Case 2: [10, 1] -> Child\n",
            "Test Case 3: [45, 1] -> Parent\n",
            "Test Case 4: [18, 0] -> Parent\n",
            "Test Case 5: [58, 1] -> Grandparent\n",
            "Test Case 6: [65, 1] -> Grandparent\n",
            "Test Case 7: [7, 1] -> Child\n",
            "Test Case 8: [6, 1] -> Child\n"
          ]
        }
      ],
      "source": [
        "import numpy as np\n",
        "import pandas as pd\n",
        "from sklearn.tree import DecisionTreeClassifier, export_text\n",
        "\n",
        "# Sample Dataset\n",
        "data = {\n",
        "    \"Age_Difference\": [25, 30, 18, 15, 40, 35, 12, 50, 60, 55, 5, 8],\n",
        "    \"Is_Direct_Relative\": [1, 1, 1, 0, 1, 1, 0, 1, 1, 1, 1, 1],  # 1 = Yes, 0 = No\n",
        "    \"Relation\": [\"Parent\", \"Parent\", \"Parent\", \"Not Related\", \"Parent\", \"Parent\", \"Not Related\",\n",
        "                 \"Parent\", \"Grandparent\", \"Grandparent\", \"Child\", \"Child\"]\n",
        "}\n",
        "\n",
        "# Convert to DataFrame\n",
        "df = pd.DataFrame(data)\n",
        "\n",
        "# Map categorical labels to numerical values\n",
        "relation_mapping = {\"Not Related\": 0, \"Child\": 1, \"Parent\": 2, \"Grandparent\": 3}\n",
        "df[\"Relation\"] = df[\"Relation\"].map(relation_mapping)\n",
        "\n",
        "# Features and Labels\n",
        "X = df[[\"Age_Difference\", \"Is_Direct_Relative\"]]\n",
        "y = df[\"Relation\"]\n",
        "\n",
        "# Train Decision Tree Model\n",
        "model = DecisionTreeClassifier(criterion=\"entropy\")\n",
        "model.fit(X, y)\n",
        "\n",
        "# Display Decision Tree Rules\n",
        "tree_rules = export_text(model, feature_names=X.columns.tolist())\n",
        "print(\"Decision Tree Rules:\\n\", tree_rules)\n",
        "\n",
        "# Test the Model\n",
        "test_data = pd.DataFrame([[28, 1], [10, 1], [45, 1], [18, 0], [58, 1], [65, 1], [7, 1], [6, 1]],\n",
        "                         columns=X.columns)\n",
        "\n",
        "predictions = model.predict(test_data)\n",
        "\n",
        "# Map numerical predictions back to labels\n",
        "inverse_relation_mapping = {0: \"Not Related\", 1: \"Child\", 2: \"Parent\", 3: \"Grandparent\"}\n",
        "\n",
        "# Display predictions\n",
        "for i, pred in enumerate(predictions):\n",
        "    relation = inverse_relation_mapping[pred]\n",
        "    print(f\"Test Case {i+1}: {test_data.iloc[i].tolist()} -> {relation}\")\n"
      ]
    }
  ]
}