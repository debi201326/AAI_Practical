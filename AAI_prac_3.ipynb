{
  "nbformat": 4,
  "nbformat_minor": 0,
  "metadata": {
    "colab": {
      "provenance": [],
      "authorship_tag": "ABX9TyPH+Kp4owQlIQ6hy7dSIyL8",
      "include_colab_link": true
    },
    "kernelspec": {
      "name": "python3",
      "display_name": "Python 3"
    },
    "language_info": {
      "name": "python"
    }
  },
  "cells": [
    {
      "cell_type": "markdown",
      "metadata": {
        "id": "view-in-github",
        "colab_type": "text"
      },
      "source": [
        "<a href=\"https://colab.research.google.com/github/debi201326/AAI_Practical/blob/main/AAI_prac_3.ipynb\" target=\"_parent\"><img src=\"https://colab.research.google.com/assets/colab-badge.svg\" alt=\"Open In Colab\"/></a>"
      ]
    },
    {
      "cell_type": "markdown",
      "source": [
        "Practical 3: Implementation a basic logic learning system that can learn from set of logical rules and example."
      ],
      "metadata": {
        "id": "TSDMbnfiPYFR"
      }
    },
    {
      "cell_type": "code",
      "execution_count": null,
      "metadata": {
        "colab": {
          "base_uri": "https://localhost:8080/"
        },
        "id": "KumWVi3l9JwN",
        "outputId": "c8495b0a-5490-4d62-c879-3c4500da5c61"
      },
      "outputs": [
        {
          "output_type": "stream",
          "name": "stdout",
          "text": [
            "Inferred Knowledge: {B, C}\n"
          ]
        }
      ],
      "source": [
        "from sympy import symbols, Implies\n",
        "\n",
        "class LogicLearningSystem:\n",
        "    def __init__(self):\n",
        "        self.rules = []\n",
        "        self.examples = []\n",
        "\n",
        "    def add_rule(self, rule):\n",
        "        \"\"\"Adds a logical rule to the system.\"\"\"\n",
        "        self.rules.append(rule)\n",
        "\n",
        "    def add_example(self, example):\n",
        "        \"\"\"Adds an example to the system.\"\"\"\n",
        "        self.examples.append(example)\n",
        "\n",
        "    def infer(self):\n",
        "        \"\"\"Attempts to infer new knowledge from rules and examples.\"\"\"\n",
        "        inferred_knowledge = set(self.examples)\n",
        "        new_inferences = True\n",
        "\n",
        "        while new_inferences:\n",
        "            new_inferences = False\n",
        "            for rule in self.rules:\n",
        "                if isinstance(rule, Implies):\n",
        "                    premise, conclusion = rule.args\n",
        "                    if premise in inferred_knowledge and conclusion not in inferred_knowledge:\n",
        "                        inferred_knowledge.add(conclusion)\n",
        "                        new_inferences = True\n",
        "\n",
        "        return inferred_knowledge - set(self.examples)  # Return only newly inferred knowledge\n",
        "\n",
        "# Define symbols\n",
        "A, B, C = symbols('A B C')\n",
        "\n",
        "# Initialize the logic learning system\n",
        "system = LogicLearningSystem()\n",
        "\n",
        "# Add rules\n",
        "system.add_rule(Implies(A, B))  # If A is true, then B is true\n",
        "system.add_rule(Implies(B, C))  # If B is true, then C is true\n",
        "\n",
        "# Add examples\n",
        "system.add_example(A)  # Given that A is true\n",
        "\n",
        "# Infer new knowledge\n",
        "inferred = system.infer()\n",
        "print(\"Inferred Knowledge:\", inferred)\n"
      ]
    }
  ]
}