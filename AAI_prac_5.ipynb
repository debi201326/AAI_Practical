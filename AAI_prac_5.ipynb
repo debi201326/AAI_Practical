{
  "nbformat": 4,
  "nbformat_minor": 0,
  "metadata": {
    "colab": {
      "provenance": [],
      "authorship_tag": "ABX9TyPeQbu415bHCtvSo6DEnpeK",
      "include_colab_link": true
    },
    "kernelspec": {
      "name": "python3",
      "display_name": "Python 3"
    },
    "language_info": {
      "name": "python"
    }
  },
  "cells": [
    {
      "cell_type": "markdown",
      "metadata": {
        "id": "view-in-github",
        "colab_type": "text"
      },
      "source": [
        "<a href=\"https://colab.research.google.com/github/debi201326/AAI_Practical/blob/main/AAI_prac_5.ipynb\" target=\"_parent\"><img src=\"https://colab.research.google.com/assets/colab-badge.svg\" alt=\"Open In Colab\"/></a>"
      ]
    },
    {
      "cell_type": "markdown",
      "source": [
        "Practical No. 5: Implement Q-Learning algorithm to solve simple problem (Grid Navigation)."
      ],
      "metadata": {
        "id": "vG2lzcBWPkW9"
      }
    },
    {
      "cell_type": "code",
      "execution_count": 7,
      "metadata": {
        "id": "-7nMqu7qMU2-",
        "colab": {
          "base_uri": "https://localhost:8080/",
          "height": 422
        },
        "outputId": "cfec4e6e-0685-4adc-9ffe-937a43c6fa12"
      },
      "outputs": [
        {
          "output_type": "display_data",
          "data": {
            "text/plain": [
              "<Figure size 500x500 with 1 Axes>"
            ],
            "image/png": "[encoded data removed]"
          },
          "metadata": {}
        }
      ],
      "source": [
        "import numpy as np\n",
        "import matplotlib.pyplot as plt\n",
        "\n",
        "# Define grid size (5x5)\n",
        "GRID_SIZE = 5\n",
        "ACTIONS = ['left', 'right', 'up', 'down']\n",
        "ACTION_DICT = {'left': 0, 'right': 1, 'up': 2, 'down': 3}\n",
        "ACTION_SYMBOLS = {'left': '←', 'right': '→', 'up': '↑', 'down': '↓'}\n",
        "\n",
        "# Rewards\n",
        "REWARD_POSITIVE = 1  # +1 goal\n",
        "REWARD_NEGATIVE = -1  # -1 goal\n",
        "REWARD_OBSTACLE = -10  # Black obstacle\n",
        "REWARD_MOVE = -0.1  # Small penalty per move\n",
        "\n",
        "# Define positions (using matrix coordinates where (0,0) is top-left)\n",
        "start_pos = (4, 0)  # Bottom-left (Start)\n",
        "goal_positive = (1, 4)  # Top-right (End +1)\n",
        "goal_negative = (2, 4)  # Below top-right (End -1)\n",
        "obstacle = (2, 2)  # Center (Black Block)\n",
        "\n",
        "# Initialize Q-table\n",
        "Q_table = np.zeros((GRID_SIZE, GRID_SIZE, len(ACTIONS)))\n",
        "\n",
        "# Q-Learning Hyperparameters\n",
        "alpha = 0.1  # Learning rate\n",
        "gamma = 0.9  # Discount factor\n",
        "epsilon = 0.3  # Exploration rate\n",
        "episodes = 1000  # More training\n",
        "\n",
        "# Function to move in the grid (now consistent with Matplotlib coordinates)\n",
        "def get_next_position(state, action):\n",
        "    x, y = state\n",
        "    if action == 'left':\n",
        "        y = max(y - 1, 0)\n",
        "    elif action == 'right':\n",
        "        y = min(y + 1, GRID_SIZE - 1)\n",
        "    elif action == 'up':  # Up decreases x (toward top of plot)\n",
        "        x = max(x - 1, 0)\n",
        "    elif action == 'down':  # Down increases x (toward bottom of plot)\n",
        "        x = min(x + 1, GRID_SIZE - 1)\n",
        "    return (x, y)\n",
        "\n",
        "# Q-Learning Algorithm\n",
        "for episode in range(episodes):\n",
        "    state = start_pos\n",
        "    while state not in [goal_positive, goal_negative]:\n",
        "        if np.random.rand() < epsilon:\n",
        "            action = np.random.choice(ACTIONS)  # Explore\n",
        "        else:\n",
        "            action = ACTIONS[np.argmax(Q_table[state])]  # Exploit\n",
        "\n",
        "        next_state = get_next_position(state, action)\n",
        "\n",
        "        # Get rewards\n",
        "        if next_state == goal_positive:\n",
        "            reward = REWARD_POSITIVE\n",
        "        elif next_state == goal_negative:\n",
        "            reward = REWARD_NEGATIVE\n",
        "        elif next_state == obstacle:\n",
        "            reward = REWARD_OBSTACLE\n",
        "        else:\n",
        "            reward = REWARD_MOVE\n",
        "\n",
        "        # Update Q-table\n",
        "        Q_table[state][ACTION_DICT[action]] += alpha * (\n",
        "            reward + gamma * np.max(Q_table[next_state]) - Q_table[state][ACTION_DICT[action]]\n",
        "        )\n",
        "\n",
        "        # Move to next state\n",
        "        state = next_state\n",
        "\n",
        "# Find best path\n",
        "state = start_pos\n",
        "path = [state]\n",
        "arrows = {}\n",
        "\n",
        "while state not in [goal_positive, goal_negative]:\n",
        "    action_index = np.argmax(Q_table[state])  # Get best action index\n",
        "    action = ACTIONS[action_index]  # Convert index to action\n",
        "    next_state = get_next_position(state, action)  # Move to new state\n",
        "\n",
        "    if next_state in path:  # Prevent infinite loops\n",
        "        break\n",
        "\n",
        "    # Store movement direction\n",
        "    arrows[state] = ACTION_SYMBOLS[action]\n",
        "\n",
        "    path.append(next_state)\n",
        "    state = next_state\n",
        "\n",
        "# Visualization\n",
        "fig, ax = plt.subplots(figsize=(5, 5))\n",
        "ax.set_xticks(np.arange(GRID_SIZE+1)-0.5, minor=True)\n",
        "ax.set_yticks(np.arange(GRID_SIZE+1)-0.5, minor=True)\n",
        "ax.grid(which=\"minor\", color=\"black\", linestyle='-', linewidth=2)\n",
        "ax.tick_params(which=\"both\", bottom=False, left=False, labelbottom=False, labelleft=False)\n",
        "\n",
        "# Plot elements with corrected coordinates\n",
        "for i in range(GRID_SIZE):\n",
        "    for j in range(GRID_SIZE):\n",
        "        pos = (i, j)\n",
        "        if pos == start_pos:\n",
        "            ax.text(j, i, \"Start\", fontsize=12, ha='center', va='center', fontweight='bold')\n",
        "        elif pos == goal_positive:\n",
        "            ax.text(j, i, \"End\\n+1\", fontsize=12, ha='center', va='center', fontweight='bold')\n",
        "        elif pos == goal_negative:\n",
        "            ax.text(j, i, \"End\\n-1\", fontsize=12, ha='center', va='center', fontweight='bold')\n",
        "        elif pos == obstacle:\n",
        "            ax.add_patch(plt.Rectangle((j-0.5, i-0.5), 1, 1, color='black'))\n",
        "        elif pos in arrows:\n",
        "            ax.text(j, i, arrows[pos], fontsize=20, ha='center', va='center', fontweight='bold', color='red')\n",
        "\n",
        "ax.invert_yaxis()\n",
        "plt.show()"
      ]
    }
  ]
}